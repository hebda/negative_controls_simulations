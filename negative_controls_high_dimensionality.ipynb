{
 "cells": [
  {
   "cell_type": "code",
   "execution_count": 1,
   "metadata": {},
   "outputs": [],
   "source": [
    "import numpy as np\n",
    "import pandas as pd\n",
    "\n",
    "import matplotlib.pyplot as plt\n",
    "import patsy\n",
    "\n",
    "import statsmodels.formula.api as smf\n",
    "import statsmodels.api as sm\n",
    "\n",
    "from joblib import Parallel, delayed\n",
    "\n",
    "%matplotlib inline\n"
   ]
  },
  {
   "cell_type": "code",
   "execution_count": 2,
   "metadata": {},
   "outputs": [],
   "source": [
    "plt.style.use('seaborn-whitegrid')\n",
    "font = {#'family' : 'normal',\n",
    "        'weight' : 'bold',\n",
    "        'size'   : 16}\n",
    "plt.rc('font', **font)\n",
    "plt.rc('lines', linewidth=4)\n",
    "plt.rc('xtick',labelsize=16)\n",
    "plt.rc('ytick',labelsize=16)\n",
    "plt.rc('legend', fontsize=8)\n"
   ]
  },
  {
   "cell_type": "markdown",
   "metadata": {},
   "source": [
    "## Entended graphs of $UWXYZ$\n",
    "We extend the simulation for Figure 2b from the second notebook (negative_controls_extended_graphs.ipynb) by allowing for higher dimensional representations of $\\vec{U*}$, $\\vec{U}$, and $\\vec{X}$. We fix $|\\vec{U^*}| + |\\vec{U}| = 10$ and vary $|\\vec{X}| \\le 10$ and $1 \\le |\\vec{U}| \\le 9$. We examine the bias of negative control under these scenarios for the first component of $\\vec{X}$.\n"
   ]
  },
  {
   "cell_type": "markdown",
   "metadata": {},
   "source": [
    "## Figure 2b, with high dimensionality $X$"
   ]
  },
  {
   "cell_type": "code",
   "execution_count": 3,
   "metadata": {},
   "outputs": [
    {
     "name": "stdout",
     "output_type": "stream",
     "text": [
      "u*  u  w  z  x_0\n",
      "0   0  0  0  0      0.337\n",
      "             1      0.358\n",
      "          1  0      0.342\n",
      "             1      0.366\n",
      "       1  0  0      0.442\n",
      "             1      0.456\n",
      "          1  0      0.448\n",
      "             1      0.452\n",
      "Name: y, dtype: float64\n",
      "   u*  u  w  z  x_0  x_1  x_2  x_3  x_4  x_state  y\n",
      "0   0  1  1  1    1    0    0    1    1       25  0\n",
      "1   0  1  0  1    1    1    1    1    1       31  1\n",
      "2   0  0  1  0    0    1    1    1    1       30  0\n",
      "3   0  0  0  0    0    1    0    1    0       10  0\n",
      "4   1  0  1  0    1    0    1    0    0        5  1\n"
     ]
    }
   ],
   "source": [
    "# For a given set of parameters that specifies the DGP, return a dataframe of n draws.\n",
    "def simulate_UWXYZ_2b_high_dim_X(deltas, phi=0.5, n=int(1e6) ):\n",
    "\n",
    "    dim_X = len(deltas['XY'])\n",
    "    \n",
    "    ## Draw U*\n",
    "    if phi<0.0 or phi>1.0:\n",
    "        print('phi is out of bounds.')\n",
    "        return\n",
    "    df = pd.DataFrame({'u*':np.random.binomial(n=1, p=phi, size=n)})\n",
    "\n",
    "    ## Draw U, which is dependent on U*.\n",
    "    probs = phi+(df['u*']-1.0/2)*deltas['U*U']\n",
    "    if probs.min()<0.0 or probs.max()>1.0:\n",
    "        print('probs for U are out of bounds.')\n",
    "        return\n",
    "    df['u'] = np.random.binomial(n=1, p=probs, size=n)\n",
    "\n",
    "    ## Draw W, which is dependent on U and U*.\n",
    "    probs = phi+(df['u*']-1.0/2)*deltas['U*W']+(df['u']-1.0/2)*deltas['UW']\n",
    "    if probs.min()<0.0 or probs.max()>1.0:\n",
    "        print('probs for W are out of bounds.')\n",
    "        return\n",
    "    df['w'] = np.random.binomial(n=1, p=probs, size=n)\n",
    "\n",
    "    ## Draw Z, which is dependent on U.\n",
    "    probs = phi+(df['u']-1.0/2)*deltas['UZ']\n",
    "    if probs.min()<0.0 or probs.max()>1.0:\n",
    "        print('probs for Z are out of bounds.')\n",
    "        return\n",
    "    df['z'] = np.random.binomial(n=1, p=probs, size=n)\n",
    "\n",
    "    ## Draw X, which is dependent on U and Z\n",
    "    probs = np.ones((n,dim_X))*phi+np.outer((df['u']-1.0/2), deltas['UX'])+np.outer((df['z']-1.0/2), deltas['ZX'])\n",
    "    if probs.min()<0.0 or probs.max()>1.0:\n",
    "        print('probs for X are out of bounds.')\n",
    "        return\n",
    "    x_vec = np.random.binomial(n=1, p=probs)\n",
    "    df = pd.concat([df,pd.DataFrame(x_vec, columns=['x_%d'%i for i in range(dim_X)])], axis=1)\n",
    "    df['x_state'] = np.dot(x_vec, [2**i for i in range(dim_X)])\n",
    "    \n",
    "    ## Draw Y, which is dependent on U*, U, W, and X\n",
    "    probs = phi+(df['u*']-1.0/2)*deltas['U*Y']+(df['u']-1.0/2)*deltas['UY']+(df['w']-1.0/2)*deltas['WY']+np.dot((x_vec-1.0/2), deltas['XY'])\n",
    "    if probs.min()<0.0 or probs.max()>1.0:\n",
    "        print('probs for Y are out of bounds.')\n",
    "        return\n",
    "    df['y'] = np.random.binomial(n=1, p=probs, size=n)\n",
    "\n",
    "    return(df)\n",
    "\n",
    "base_diff = 0.10\n",
    "dim_X = 5\n",
    "deltas = {'U*U':base_diff,\n",
    "          'U*W':base_diff,\n",
    "          'U*Y':base_diff,\n",
    "          'UW':base_diff*2,\n",
    "          'UX':np.ones(dim_X)*base_diff/dim_X,\n",
    "          'UY':base_diff,\n",
    "          'UZ':base_diff*2,\n",
    "          'WY':base_diff,\n",
    "          'XY':np.ones(dim_X)*base_diff/dim_X,\n",
    "          'ZX':np.ones(dim_X)*base_diff/dim_X }\n",
    "df_sim_2b = simulate_UWXYZ_2b_high_dim_X(deltas = deltas)\n",
    "print(df_sim_2b.groupby(['u*','u','w','z','x_0']).mean()['y'].apply(lambda x: np.round(x,3)).head(n=8))\n",
    "print(df_sim_2b.head())\n"
   ]
  },
  {
   "cell_type": "code",
   "execution_count": 4,
   "metadata": {},
   "outputs": [
    {
     "name": "stdout",
     "output_type": "stream",
     "text": [
      "Median condition number over x_states = 22.79\n"
     ]
    }
   ],
   "source": [
    "def calculate_condition_number(df):\n",
    "    \n",
    "    X = 'x_state'\n",
    "    # proxies\n",
    "    W = 'w'; W_val = 1\n",
    "    Z = 'z'; Z_val = 1\n",
    "\n",
    "    # P(W | Z, x) represents two matrices, one for each value of x\n",
    "    def calculate_condition_number_given_x(df, X_val):\n",
    "        # p(W | X, Z=0)\n",
    "        pWgXZ0 = np.bincount(df[(df[X]==X_val) & (df[Z]!=Z_val)][W]==W_val)\n",
    "        pWgXZ0 = pWgXZ0 / pWgXZ0.sum()\n",
    "\n",
    "        # p(W | X, Z=1)\n",
    "        pWgXZ1 = np.bincount(df[(df[X]==X_val) & (df[Z]==Z_val)][W]==W_val)\n",
    "        pWgXZ1 = pWgXZ1 / pWgXZ1.sum()\n",
    "\n",
    "        pWZx = np.stack((pWgXZ0, pWgXZ1), axis=-1)\n",
    "        return(np.linalg.cond(pWZx))\n",
    "    \n",
    "    Xs = df[X].unique()\n",
    "    condition_numbers = [calculate_condition_number_given_x(df, X_val) for X_val in Xs]\n",
    "\n",
    "    #return(max(condition_numbers) )\n",
    "    return(np.median(condition_numbers) )\n",
    "\n",
    "print('Median condition number over x_states = %.2f'%calculate_condition_number(df_sim_2b) )\n"
   ]
  },
  {
   "cell_type": "code",
   "execution_count": 5,
   "metadata": {},
   "outputs": [
    {
     "name": "stdout",
     "output_type": "stream",
     "text": [
      "True ATEs:\n",
      "Empirical is 1.92 p.p. Intended is 2.00 p.p.\n"
     ]
    }
   ],
   "source": [
    "## Let's estimate the true ATE from the simulation itself with the following function.\n",
    "\n",
    "def calculate_true_ate(df, x_treatment = 'x_0'):\n",
    "    \n",
    "    def delta_p_cond(group, n_obs):\n",
    "        group_frac = np.sum(group['count'])*1.0/n_obs\n",
    "        if group[x_treatment].unique().size < 2:\n",
    "            delta_p = 0.0\n",
    "        else:\n",
    "            delta_p = group.loc[group[x_treatment]==1,'mean'].iloc[0]-group.loc[group[x_treatment]==0,'mean'].iloc[0]\n",
    "        return( pd.Series([group_frac,delta_p], index=['group_frac','delta_p'])  )\n",
    "\n",
    "    exog_cols = [i for i in df.columns.to_list() if i not in ['y','x_state']]\n",
    "    exog_cols_minus_x = [i for i in exog_cols if i!=x_treatment]\n",
    "    \n",
    "    true_ate = \\\n",
    "        df.groupby(exog_cols)\\\n",
    "            .agg(['count','mean'])['y']\\\n",
    "            .reset_index()\\\n",
    "            .groupby(exog_cols_minus_x)\\\n",
    "            .apply(delta_p_cond, df.shape[0])\\\n",
    "            .reset_index()\\\n",
    "            .apply(lambda x: x['group_frac']*x['delta_p'], axis=1)\\\n",
    "            .sum()\n",
    "    return(true_ate)\n",
    "\n",
    "print('True ATEs:\\nEmpirical is %.2f p.p. Intended is %.2f p.p.' %\n",
    "      (calculate_true_ate(df_sim_2b)*100, deltas['XY'][0]*100) )\n"
   ]
  },
  {
   "cell_type": "code",
   "execution_count": 6,
   "metadata": {},
   "outputs": [
    {
     "name": "stdout",
     "output_type": "stream",
     "text": [
      "Method: relative bias (condition number), true ATE\n",
      "Negative controls: 0.0% (23), 1.9% \n"
     ]
    }
   ],
   "source": [
    "## Now, let's deploy the negative controls estimator and see how it recovers the true ATE.\n",
    "\n",
    "def calculate_ate_negative_controls(df):\n",
    "    \n",
    "    X = 'x_0'\n",
    "    Y = 'y'\n",
    "    # proxies\n",
    "    W = 'w'; W_val = 1\n",
    "    Z = 'z'; Z_val = 1\n",
    "\n",
    "    def calculate_pYdoX(df, X_val):\n",
    "        # p(Y | X, Z=0)\n",
    "        pYgXZ0 = np.bincount(df[(df[X]==X_val) & (df[Z]!=Z_val)][Y])\n",
    "        pYgXZ0 = pYgXZ0 / pYgXZ0.sum()\n",
    "\n",
    "        # p(Y | X, Z=1)\n",
    "        pYgXZ1 = np.bincount(df[(df[X]==X_val) & (df[Z]==Z_val)][Y])\n",
    "        pYgXZ1 = pYgXZ1 / pYgXZ1.sum()\n",
    "\n",
    "        # p(W)\n",
    "        pW = np.bincount(df[W]==W_val)\n",
    "        pW = pW / pW.sum()\n",
    "\n",
    "        # p(W | X, Z=0)\n",
    "        pWgXZ0 = np.bincount(df[(df[X]==X_val) & (df[Z]!=Z_val)][W]==W_val)\n",
    "        pWgXZ0 = pWgXZ0 / pWgXZ0.sum()\n",
    "\n",
    "        # p(W | X, Z=1)\n",
    "        pWgXZ1 = np.bincount(df[(df[X]==X_val) & (df[Z]==Z_val)][W]==W_val)\n",
    "        pWgXZ1 = pWgXZ1 / pWgXZ1.sum()\n",
    "\n",
    "        # Miao et al. adjustment (see paper)\n",
    "        denom = pWgXZ0[0] - pWgXZ1[0]\n",
    "        weight_0 = (pW[0] - pWgXZ1[0]) / denom\n",
    "        weight_1 = (pWgXZ0[0] - pW[0]) / denom\n",
    "\n",
    "        pYdoXmiao = pYgXZ0 * weight_0 + pYgXZ1 * weight_1\n",
    "\n",
    "        # formula (5) using matrix inversion\n",
    "        pWZx = np.stack((pWgXZ0, pWgXZ1), axis=-1)\n",
    "        condition_number = np.linalg.cond(pWZx)\n",
    "        weights = np.dot(np.linalg.pinv(pWZx), pW)\n",
    "\n",
    "        pYdoXmiao_pinv = pYgXZ0 * weights[0] + pYgXZ1 * weights[1]\n",
    "    \n",
    "        return(pYdoXmiao_pinv[1], condition_number)\n",
    "    \n",
    "    pYdoX_results = [calculate_pYdoX(df, X_val) for X_val in [0,1]]\n",
    "    \n",
    "    condition_number = max([i[1] for i in pYdoX_results])\n",
    "    negative_controls_ate = pYdoX_results[1][0] - pYdoX_results[0][0]\n",
    "    return(negative_controls_ate, condition_number)\n",
    "\n",
    "negative_controls_result = calculate_ate_negative_controls(df_sim_2b)\n",
    "\n",
    "print('Method: relative bias (condition number), true ATE')\n",
    "true_ate = calculate_true_ate(df_sim_2b)\n",
    "print('Negative controls: %.1f%% (%.0f), %.1f%% ' % ((negative_controls_result[0]-true_ate)/true_ate*100,\n",
    "                                                     negative_controls_result[1], true_ate*100 ) )\n"
   ]
  },
  {
   "cell_type": "code",
   "execution_count": 7,
   "metadata": {},
   "outputs": [
    {
     "name": "stdout",
     "output_type": "stream",
     "text": [
      "Method: relative bias (LB, UB)\n",
      "LR: 9.9% (-10.1%, 10.1%)\n",
      "LR, one treatment: 10.0% (-10.1%, 10.1%)\n",
      "LR, with U: -0.7% (-10.1%, 10.1%)\n"
     ]
    }
   ],
   "source": [
    "def calculate_ate_regression(df, formula='y ~ 1 + w + x + z', family=sm.families.Binomial(),\n",
    "                             dim_X = dim_X, x_treatment = 'x' ):\n",
    "    \n",
    "    if 'x' not in df.columns:\n",
    "        formula = formula.replace('x', ' + '.join(['x_%d'%i for i in range(dim_X)]))\n",
    "        x_treatment = 'x_0'\n",
    "\n",
    "    model = smf.glm(formula=formula, data=df, family=family )\n",
    "    model_result = model.fit(use_t=1)\n",
    "    #print(model_result.summary())\n",
    "    \n",
    "    ##calculate ATE with 95% CI\n",
    "    ones_vector  = model_result.params.index!=x_treatment\n",
    "    zeros_vector = model_result.params.index==x_treatment\n",
    "    \n",
    "    params_mid = model_result.params\n",
    "    params_lower = model_result.params * ones_vector + model_result.conf_int()[0] * zeros_vector\n",
    "    params_upper = model_result.params * ones_vector + model_result.conf_int()[1] * zeros_vector\n",
    "\n",
    "    result_list = []\n",
    "    patsy_df = patsy.dmatrices(model.formula, df, return_type='dataframe')[1]\n",
    "    for params_i in [params_mid, params_lower, params_upper]:\n",
    "        patsy_df[x_treatment] = 0\n",
    "        p0 = model.predict(params_i, patsy_df, linear=False).mean()\n",
    "        patsy_df[x_treatment] = 1\n",
    "        p1 = model.predict(params_i, patsy_df, linear=False).mean()\n",
    "        result_list.append(p1-p0)\n",
    "\n",
    "    return(result_list[0], result_list[0]-result_list[1], result_list[2]-result_list[0])\n",
    "\n",
    "regression_comparison_results = {}\n",
    "regression_comparison_results['LR'] = calculate_ate_regression(df_sim_2b)\n",
    "regression_comparison_results['LR, one treatment'] = calculate_ate_regression(df_sim_2b, formula = 'y ~ 1 + w + x + z', dim_X = 1)\n",
    "#regression_comparison_results['OLS'] = calculate_ate_regression(df_sim_2b, family=sm.families.Gaussian() )\n",
    "regression_comparison_results['LR, with U'] = calculate_ate_regression(df_sim_2b, formula='y ~ 1 + u + w + x + z')\n",
    "\n",
    "print('Method: relative bias (LB, UB)')\n",
    "true_ate = calculate_true_ate(df_sim_2b)\n",
    "for key, value in regression_comparison_results.items():\n",
    "    print('%s: %.1f%% (-%.1f%%, %.1f%%)' % (key, (value[0]-true_ate)/true_ate*100,\n",
    "                                            value[1]/true_ate*100, value[2]/true_ate*100))\n"
   ]
  },
  {
   "cell_type": "code",
   "execution_count": 8,
   "metadata": {},
   "outputs": [
    {
     "name": "stdout",
     "output_type": "stream",
     "text": [
      "Figure 2b (high dim X) simulation results comparison:\n",
      "True empirical ATE is 1.92 p.p. Intended ATE is 2.00 p.p.\n",
      "Method: relative bias (LB, UB)\n",
      "LR, with obs. nodes: 9.9% (-10.1%, 10.1%)\n",
      "LR, with obs. nodes + U: -0.7% (-10.1%, 10.1%)\n",
      "LR, with all nodes: -0.7% (-10.1%, 10.1%)\n",
      "Method: relative bias (condition number), true ATE\n",
      "Negative controls: 0.0% (23), 1.92 p.p. \n"
     ]
    }
   ],
   "source": [
    "## Comparison of the two methods\n",
    "def run_comparison(df, deltas, obs_nodes, all_nodes, dim_X = dim_X):\n",
    "\n",
    "    true_ate = calculate_true_ate(df)\n",
    "    print('True empirical ATE is %.2f p.p. Intended ATE is %.2f p.p.' % (true_ate*100, deltas['XY'][0]*100) )\n",
    "\n",
    "    regression_comparison_results = {}\n",
    "    regression_comparison_results['LR, with obs. nodes'] = \\\n",
    "        calculate_ate_regression(df, formula = 'y ~ 1 + %s' % ' + '.join(obs_nodes), dim_X = dim_X)\n",
    "    regression_comparison_results['LR, with obs. nodes + U'] = \\\n",
    "        calculate_ate_regression(df, formula = 'y ~ 1 + %s' % ' + '.join(obs_nodes+['u']), dim_X = dim_X)\n",
    "    regression_comparison_results['LR, with all nodes'] = \\\n",
    "        calculate_ate_regression(df, formula = 'y ~ 1 + %s' % ' + '.join(all_nodes), dim_X = dim_X)\n",
    "\n",
    "    print('Method: relative bias (LB, UB)')\n",
    "    for key, value in regression_comparison_results.items():\n",
    "        print('%s: %.1f%% (-%.1f%%, %.1f%%)' % (key, (value[0]-true_ate)/true_ate*100,\n",
    "                                                value[1]/true_ate*100, value[2]/true_ate*100))\n",
    "\n",
    "    negative_controls_result = calculate_ate_negative_controls(df)\n",
    "\n",
    "    print('Method: relative bias (condition number), true ATE')\n",
    "    print('Negative controls: %.1f%% (%.0f), %.2f p.p. ' % ((negative_controls_result[0]-true_ate)/true_ate*100,\n",
    "                                                            negative_controls_result[1], true_ate*100 ) )\n",
    "    \n",
    "    return\n",
    "\n",
    "print('Figure 2b (high dim X) simulation results comparison:')\n",
    "run_comparison(df_sim_2b, deltas, ['w','x','z'], ['u*','u','w','x','z'], dim_X = dim_X)\n"
   ]
  },
  {
   "cell_type": "code",
   "execution_count": 9,
   "metadata": {},
   "outputs": [
    {
     "name": "stdout",
     "output_type": "stream",
     "text": [
      "Figure 2b (high dim X) simulation results over 100 comparisons:\n",
      "LR, with obs. nodes: 10.0% +/- 1.8%\n",
      "Negative controls:  -0.8% +/- 5.9%\n"
     ]
    }
   ],
   "source": [
    "## Run many comparisons to get variance of negative controls\n",
    "n_comparison = 100\n",
    "\n",
    "def run_generic_comparison(func_gen_df, deltas, obs_nodes):\n",
    "\n",
    "    df = func_gen_df(deltas)\n",
    "    true_ate = calculate_true_ate(df)\n",
    "    dim_X = deltas['XY'].size\n",
    "    regression_comparison_results = calculate_ate_regression(df, formula = 'y ~ 1 + %s' % ' + '.join(obs_nodes),\n",
    "                                                             dim_X = dim_X  )\n",
    "    negative_controls_result = calculate_ate_negative_controls(df)\n",
    "\n",
    "    return((regression_comparison_results[0]-true_ate)/true_ate*100,\n",
    "           (negative_controls_result[0]-true_ate)/true_ate*100 )\n",
    "\n",
    "def run_generic_comparison_n_times_and_print(func_gen_df, deltas, obs_nodes, n_comparison, desc):\n",
    "    exp_list = Parallel(n_jobs=-1, max_nbytes=None)\\\n",
    "        (delayed(run_generic_comparison)(func_gen_df, deltas, obs_nodes)\\\n",
    "         for i in range(n_comparison) )\n",
    "\n",
    "    print(\"%s simulation results over %d comparisons:\" % (desc,len(exp_list)) )\n",
    "    print(\"LR, with obs. nodes: %.1f%% +/- %.1f%%\" % (np.mean([i[0] for i in exp_list]),\n",
    "                                                      2*np.std([i[0] for i in exp_list])  ))\n",
    "    print(\"Negative controls:  %.1f%% +/- %.1f%%\" % (np.mean([i[1] for i in exp_list]),\n",
    "                                                     2*np.std([i[1] for i in exp_list])  ))\n",
    "    return\n",
    "\n",
    "run_generic_comparison_n_times_and_print(simulate_UWXYZ_2b_high_dim_X, deltas, ['w','x','z'],\n",
    "                                         n_comparison, 'Figure 2b (high dim X)')\n"
   ]
  },
  {
   "cell_type": "markdown",
   "metadata": {},
   "source": [
    "## Figure 2b, with high dimensionality $U_*$ and $X$ (Setup #7)"
   ]
  },
  {
   "cell_type": "code",
   "execution_count": 10,
   "metadata": {},
   "outputs": [
    {
     "name": "stdout",
     "output_type": "stream",
     "text": [
      "ustar_0  u  w  z  x_0\n",
      "0        0  0  0  0      0.340\n",
      "                  1      0.439\n",
      "               1  0      0.338\n",
      "                  1      0.438\n",
      "            1  0  0      0.439\n",
      "                  1      0.539\n",
      "               1  0      0.434\n",
      "                  1      0.540\n",
      "Name: y, dtype: float64\n",
      "   ustar_0  ustar_1  ustar_2  ustar_3  ustar_4  u  w  z  x_0  x_state  y\n",
      "0        0        1        1        0        0  1  0  1    0        0  0\n",
      "1        1        1        0        0        0  1  1  0    1        1  1\n",
      "2        0        0        0        0        1  0  0  0    0        0  0\n",
      "3        0        1        0        1        0  1  1  1    0        0  1\n",
      "4        1        1        1        1        1  0  1  1    0        0  1\n"
     ]
    }
   ],
   "source": [
    "# For a given set of parameters that specifies the DGP, return a dataframe of n draws.\n",
    "def simulate_UWXYZ_2b_high_dim_Ustar_X(deltas, phi=0.5, n=int(1e6) ):\n",
    "\n",
    "    dim_X = len(deltas['XY'])\n",
    "    dim_Ustar = len(deltas['U*U'])\n",
    "    \n",
    "    ## Draw U*\n",
    "    if phi<0.0 or phi>1.0:\n",
    "        print('phi is out of bounds.')\n",
    "        return\n",
    "    ustar_vec = np.random.binomial(n=1, p=phi, size=(n,dim_Ustar))\n",
    "    df = pd.DataFrame(ustar_vec, columns=['ustar_%d'%i for i in range(dim_Ustar)])\n",
    "    \n",
    "    ## Draw U, which is dependent on U*.\n",
    "    probs = phi+np.dot((ustar_vec-1.0/2), deltas['U*U'])\n",
    "    if probs.min()<0.0 or probs.max()>1.0:\n",
    "        print('probs for U are out of bounds.')\n",
    "        return\n",
    "    df['u'] = np.random.binomial(n=1, p=probs, size=n)\n",
    "\n",
    "    ## Draw W, which is dependent on U and U*.\n",
    "    probs = phi+np.dot((ustar_vec-1.0/2), deltas['U*W'])+(df['u']-1.0/2)*deltas['UW']\n",
    "    if probs.min()<0.0 or probs.max()>1.0:\n",
    "        print('probs for W are out of bounds.')\n",
    "        return\n",
    "    df['w'] = np.random.binomial(n=1, p=probs, size=n)\n",
    "\n",
    "    ## Draw Z, which is dependent on U.\n",
    "    probs = phi+(df['u']-1.0/2)*deltas['UZ']\n",
    "    if probs.min()<0.0 or probs.max()>1.0:\n",
    "        print('probs for Z are out of bounds.')\n",
    "        return\n",
    "    df['z'] = np.random.binomial(n=1, p=probs, size=n)\n",
    "\n",
    "    ## Draw X, which is dependent on U and Z\n",
    "    probs = np.ones((n,dim_X))*phi+np.outer((df['u']-1.0/2), deltas['UX'])+np.outer((df['z']-1.0/2), deltas['ZX'])\n",
    "    if probs.min()<0.0 or probs.max()>1.0:\n",
    "        print('probs for X are out of bounds.')\n",
    "        return\n",
    "    x_vec = np.random.binomial(n=1, p=probs)\n",
    "    df = pd.concat([df,pd.DataFrame(x_vec, columns=['x_%d'%i for i in range(dim_X)])], axis=1)\n",
    "    df['x_state'] = np.dot(x_vec, [2**i for i in range(dim_X)])\n",
    "    \n",
    "    ## Draw Y, which is dependent on U*, U, W, and X\n",
    "    probs = phi+np.dot((ustar_vec-1.0/2), deltas['U*Y'])+(df['u']-1.0/2)*deltas['UY']+(df['w']-1.0/2)*deltas['WY']+np.dot((x_vec-1.0/2), deltas['XY'])\n",
    "    if probs.min()<0.0 or probs.max()>1.0:\n",
    "        print('probs for Y are out of bounds.')\n",
    "        return\n",
    "    df['y'] = np.random.binomial(n=1, p=probs, size=n)\n",
    "\n",
    "    return(df)\n",
    "\n",
    "base_diff = 0.10\n",
    "dim_X = 1\n",
    "dim_Ustar = 5\n",
    "deltas = {'U*U':np.ones(dim_Ustar)*base_diff/dim_Ustar,\n",
    "          'U*W':np.ones(dim_Ustar)*base_diff/dim_Ustar,\n",
    "          'U*Y':np.ones(dim_Ustar)*base_diff/dim_Ustar,\n",
    "          'UW':base_diff*2,\n",
    "          'UX':np.ones(dim_X)*base_diff/dim_X,\n",
    "          'UY':base_diff,\n",
    "          'UZ':base_diff*2,\n",
    "          'WY':base_diff,\n",
    "          'XY':np.ones(dim_X)*base_diff/dim_X,\n",
    "          'ZX':np.ones(dim_X)*base_diff/dim_X }\n",
    "df_sim_2b = simulate_UWXYZ_2b_high_dim_Ustar_X(deltas = deltas)\n",
    "print(df_sim_2b.groupby(['ustar_0','u','w','z','x_0']).mean()['y'].apply(lambda x: np.round(x,3)).head(n=8))\n",
    "print(df_sim_2b.head())\n"
   ]
  },
  {
   "cell_type": "code",
   "execution_count": 11,
   "metadata": {},
   "outputs": [
    {
     "name": "stdout",
     "output_type": "stream",
     "text": [
      "Setup #7\n",
      "Figure 2b (high dim U*) simulation results comparison:\n",
      "True empirical ATE is 10.04 p.p. Intended ATE is 10.00 p.p.\n",
      "Method: relative bias (LB, UB)\n",
      "LR, with obs. nodes: 9.4% (-1.9%, 1.9%)\n",
      "LR, with obs. nodes + U: -0.1% (-1.9%, 1.9%)\n",
      "LR, with all nodes: 0.0% (-1.9%, 1.9%)\n",
      "Method: relative bias (condition number), true ATE\n",
      "Negative controls: 1.2% (26), 10.04 p.p. \n"
     ]
    }
   ],
   "source": [
    "print('Setup #7')\n",
    "print('Figure 2b (high dim U*) simulation results comparison:')\n",
    "run_comparison(df_sim_2b, deltas, ['w','x','z'], ['ustar_%d'%i for i in range(dim_Ustar)]+['u','w','x','z'],\n",
    "               dim_X = dim_X )\n"
   ]
  },
  {
   "cell_type": "code",
   "execution_count": 12,
   "metadata": {},
   "outputs": [
    {
     "name": "stdout",
     "output_type": "stream",
     "text": [
      "Setup #7\n",
      "Figure 2b (high dim U*) simulation results over 100 comparisons:\n",
      "LR, with obs. nodes: 9.5% +/- 0.4%\n",
      "Negative controls:  -0.1% +/- 1.4%\n"
     ]
    }
   ],
   "source": [
    "print('Setup #7')\n",
    "run_generic_comparison_n_times_and_print(simulate_UWXYZ_2b_high_dim_Ustar_X, deltas, ['w','x','z'],\n",
    "                                         n_comparison, 'Figure 2b (high dim U*)')\n"
   ]
  },
  {
   "cell_type": "markdown",
   "metadata": {},
   "source": [
    "## Figure 2b, with high dimensionality $U_*$, $X$ (Setup #8)"
   ]
  },
  {
   "cell_type": "code",
   "execution_count": 13,
   "metadata": {},
   "outputs": [
    {
     "name": "stdout",
     "output_type": "stream",
     "text": [
      "ustar_0  u  w  z  x_0\n",
      "0        0  0  0  0      0.376\n",
      "                  1      0.397\n",
      "               1  0      0.379\n",
      "                  1      0.395\n",
      "            1  0  0      0.478\n",
      "                  1      0.497\n",
      "               1  0      0.484\n",
      "                  1      0.497\n",
      "Name: y, dtype: float64\n",
      "   ustar_0  ustar_1  ustar_2  ustar_3  ustar_4  u  w  z  x_0  x_1  x_2  x_3  \\\n",
      "0        1        1        1        0        1  0  1  1    0    1    0    0   \n",
      "1        0        0        0        1        0  0  0  1    1    1    0    0   \n",
      "2        0        0        0        1        1  0  0  0    0    0    0    0   \n",
      "3        1        1        1        1        0  1  1  0    0    1    0    1   \n",
      "4        1        0        0        1        0  1  1  1    0    0    0    1   \n",
      "\n",
      "   x_4  x_state  y  \n",
      "0    0        2  1  \n",
      "1    0        3  1  \n",
      "2    1       16  0  \n",
      "3    1       26  1  \n",
      "4    1       24  1  \n"
     ]
    }
   ],
   "source": [
    "base_diff = 0.10\n",
    "dim_X = 5\n",
    "dim_Ustar = 5\n",
    "deltas = {'U*U':np.ones(dim_Ustar)*base_diff/dim_Ustar,\n",
    "          'U*W':np.ones(dim_Ustar)*base_diff/dim_Ustar,\n",
    "          'U*Y':np.ones(dim_Ustar)*base_diff/dim_Ustar,\n",
    "          'UW':base_diff*2,\n",
    "          'UX':np.ones(dim_X)*base_diff/dim_X,\n",
    "          'UY':base_diff,\n",
    "          'UZ':base_diff*2,\n",
    "          'WY':base_diff,\n",
    "          'XY':np.ones(dim_X)*base_diff/dim_X,\n",
    "          'ZX':np.ones(dim_X)*base_diff/dim_X }\n",
    "df_sim_2b = simulate_UWXYZ_2b_high_dim_Ustar_X(deltas = deltas)\n",
    "print(df_sim_2b.groupby(['ustar_0','u','w','z','x_0']).mean()['y'].apply(lambda x: np.round(x,3)).head(n=8))\n",
    "print(df_sim_2b.head())\n"
   ]
  },
  {
   "cell_type": "code",
   "execution_count": 14,
   "metadata": {},
   "outputs": [
    {
     "name": "stdout",
     "output_type": "stream",
     "text": [
      "Setup #8\n",
      "Figure 2b (high dim U*) simulation results comparison:\n",
      "True empirical ATE is 1.97 p.p. Intended ATE is 2.00 p.p.\n",
      "Method: relative bias (LB, UB)\n",
      "LR, with obs. nodes: 10.3% (-9.9%, 9.9%)\n",
      "LR, with obs. nodes + U: 0.0% (-9.8%, 9.8%)\n",
      "LR, with all nodes: 0.4% (-9.8%, 9.8%)\n",
      "Method: relative bias (condition number), true ATE\n",
      "Negative controls: 0.7% (26), 1.97 p.p. \n"
     ]
    }
   ],
   "source": [
    "print('Setup #8')\n",
    "print('Figure 2b (high dim U*) simulation results comparison:')\n",
    "run_comparison(df_sim_2b, deltas, ['w','x','z'], ['ustar_%d'%i for i in range(dim_Ustar)]+['u','w','x','z'],\n",
    "               dim_X = dim_X )\n"
   ]
  },
  {
   "cell_type": "code",
   "execution_count": 15,
   "metadata": {},
   "outputs": [
    {
     "name": "stdout",
     "output_type": "stream",
     "text": [
      "Setup #8\n",
      "Figure 2b (high dim U*) simulation results over 100 comparisons:\n",
      "LR, with obs. nodes: 9.4% +/- 1.6%\n",
      "Negative controls:  -0.7% +/- 6.0%\n"
     ]
    }
   ],
   "source": [
    "print('Setup #8')\n",
    "run_generic_comparison_n_times_and_print(simulate_UWXYZ_2b_high_dim_Ustar_X, deltas, ['w','x','z'],\n",
    "                                         n_comparison, 'Figure 2b (high dim U*)')\n"
   ]
  }
 ],
 "metadata": {
  "hide_input": false,
  "kernelspec": {
   "display_name": "Python 3",
   "language": "python",
   "name": "python3"
  },
  "language_info": {
   "codemirror_mode": {
    "name": "ipython",
    "version": 3
   },
   "file_extension": ".py",
   "mimetype": "text/x-python",
   "name": "python",
   "nbconvert_exporter": "python",
   "pygments_lexer": "ipython3",
   "version": "3.7.4"
  }
 },
 "nbformat": 4,
 "nbformat_minor": 2
}
